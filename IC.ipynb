{
  "nbformat": 4,
  "nbformat_minor": 0,
  "metadata": {
    "colab": {
      "name": "IC.ipynb",
      "provenance": [],
      "collapsed_sections": []
    },
    "kernelspec": {
      "name": "python3",
      "display_name": "Python 3"
    },
    "language_info": {
      "name": "python"
    }
  },
  "cells": [
    {
      "cell_type": "code",
      "execution_count": null,
      "metadata": {
        "id": "ksANyTzGns6d"
      },
      "outputs": [],
      "source": [
        "import numpy as np\n",
        "import pandas as pd\n",
        "dados = pd.read_csv(\"dataset.csv\")\n",
        "pd.set_option('display.max_columns', 500)\n",
        "max_time = 1000"
      ]
    },
    {
      "cell_type": "code",
      "source": [
        "from google.colab import drive\n",
        "drive.mount('/content/drive')"
      ],
      "metadata": {
        "colab": {
          "base_uri": "https://localhost:8080/",
          "height": 328
        },
        "id": "-DM-lReooN6A",
        "outputId": "8302b1f8-52c6-4b06-a5e0-f382da1867d6"
      },
      "execution_count": null,
      "outputs": [
        {
          "output_type": "error",
          "ename": "MessageError",
          "evalue": "ignored",
          "traceback": [
            "\u001b[0;31m---------------------------------------------------------------------------\u001b[0m",
            "\u001b[0;31mMessageError\u001b[0m                              Traceback (most recent call last)",
            "\u001b[0;32m<ipython-input-2-d5df0069828e>\u001b[0m in \u001b[0;36m<module>\u001b[0;34m()\u001b[0m\n\u001b[1;32m      1\u001b[0m \u001b[0;32mfrom\u001b[0m \u001b[0mgoogle\u001b[0m\u001b[0;34m.\u001b[0m\u001b[0mcolab\u001b[0m \u001b[0;32mimport\u001b[0m \u001b[0mdrive\u001b[0m\u001b[0;34m\u001b[0m\u001b[0;34m\u001b[0m\u001b[0m\n\u001b[0;32m----> 2\u001b[0;31m \u001b[0mdrive\u001b[0m\u001b[0;34m.\u001b[0m\u001b[0mmount\u001b[0m\u001b[0;34m(\u001b[0m\u001b[0;34m'/content/drive'\u001b[0m\u001b[0;34m)\u001b[0m\u001b[0;34m\u001b[0m\u001b[0;34m\u001b[0m\u001b[0m\n\u001b[0m",
            "\u001b[0;32m/usr/local/lib/python3.7/dist-packages/google/colab/drive.py\u001b[0m in \u001b[0;36mmount\u001b[0;34m(mountpoint, force_remount, timeout_ms)\u001b[0m\n\u001b[1;32m    103\u001b[0m       \u001b[0mforce_remount\u001b[0m\u001b[0;34m=\u001b[0m\u001b[0mforce_remount\u001b[0m\u001b[0;34m,\u001b[0m\u001b[0;34m\u001b[0m\u001b[0;34m\u001b[0m\u001b[0m\n\u001b[1;32m    104\u001b[0m       \u001b[0mtimeout_ms\u001b[0m\u001b[0;34m=\u001b[0m\u001b[0mtimeout_ms\u001b[0m\u001b[0;34m,\u001b[0m\u001b[0;34m\u001b[0m\u001b[0;34m\u001b[0m\u001b[0m\n\u001b[0;32m--> 105\u001b[0;31m       ephemeral=True)\n\u001b[0m\u001b[1;32m    106\u001b[0m \u001b[0;34m\u001b[0m\u001b[0m\n\u001b[1;32m    107\u001b[0m \u001b[0;34m\u001b[0m\u001b[0m\n",
            "\u001b[0;32m/usr/local/lib/python3.7/dist-packages/google/colab/drive.py\u001b[0m in \u001b[0;36m_mount\u001b[0;34m(mountpoint, force_remount, timeout_ms, ephemeral)\u001b[0m\n\u001b[1;32m    118\u001b[0m   \u001b[0;32mif\u001b[0m \u001b[0mephemeral\u001b[0m\u001b[0;34m:\u001b[0m\u001b[0;34m\u001b[0m\u001b[0;34m\u001b[0m\u001b[0m\n\u001b[1;32m    119\u001b[0m     _message.blocking_request(\n\u001b[0;32m--> 120\u001b[0;31m         'request_auth', request={'authType': 'dfs_ephemeral'}, timeout_sec=None)\n\u001b[0m\u001b[1;32m    121\u001b[0m \u001b[0;34m\u001b[0m\u001b[0m\n\u001b[1;32m    122\u001b[0m   \u001b[0mmountpoint\u001b[0m \u001b[0;34m=\u001b[0m \u001b[0m_os\u001b[0m\u001b[0;34m.\u001b[0m\u001b[0mpath\u001b[0m\u001b[0;34m.\u001b[0m\u001b[0mexpanduser\u001b[0m\u001b[0;34m(\u001b[0m\u001b[0mmountpoint\u001b[0m\u001b[0;34m)\u001b[0m\u001b[0;34m\u001b[0m\u001b[0;34m\u001b[0m\u001b[0m\n",
            "\u001b[0;32m/usr/local/lib/python3.7/dist-packages/google/colab/_message.py\u001b[0m in \u001b[0;36mblocking_request\u001b[0;34m(request_type, request, timeout_sec, parent)\u001b[0m\n\u001b[1;32m    169\u001b[0m   request_id = send_request(\n\u001b[1;32m    170\u001b[0m       request_type, request, parent=parent, expect_reply=True)\n\u001b[0;32m--> 171\u001b[0;31m   \u001b[0;32mreturn\u001b[0m \u001b[0mread_reply_from_input\u001b[0m\u001b[0;34m(\u001b[0m\u001b[0mrequest_id\u001b[0m\u001b[0;34m,\u001b[0m \u001b[0mtimeout_sec\u001b[0m\u001b[0;34m)\u001b[0m\u001b[0;34m\u001b[0m\u001b[0;34m\u001b[0m\u001b[0m\n\u001b[0m",
            "\u001b[0;32m/usr/local/lib/python3.7/dist-packages/google/colab/_message.py\u001b[0m in \u001b[0;36mread_reply_from_input\u001b[0;34m(message_id, timeout_sec)\u001b[0m\n\u001b[1;32m    100\u001b[0m         reply.get('colab_msg_id') == message_id):\n\u001b[1;32m    101\u001b[0m       \u001b[0;32mif\u001b[0m \u001b[0;34m'error'\u001b[0m \u001b[0;32min\u001b[0m \u001b[0mreply\u001b[0m\u001b[0;34m:\u001b[0m\u001b[0;34m\u001b[0m\u001b[0;34m\u001b[0m\u001b[0m\n\u001b[0;32m--> 102\u001b[0;31m         \u001b[0;32mraise\u001b[0m \u001b[0mMessageError\u001b[0m\u001b[0;34m(\u001b[0m\u001b[0mreply\u001b[0m\u001b[0;34m[\u001b[0m\u001b[0;34m'error'\u001b[0m\u001b[0;34m]\u001b[0m\u001b[0;34m)\u001b[0m\u001b[0;34m\u001b[0m\u001b[0;34m\u001b[0m\u001b[0m\n\u001b[0m\u001b[1;32m    103\u001b[0m       \u001b[0;32mreturn\u001b[0m \u001b[0mreply\u001b[0m\u001b[0;34m.\u001b[0m\u001b[0mget\u001b[0m\u001b[0;34m(\u001b[0m\u001b[0;34m'data'\u001b[0m\u001b[0;34m,\u001b[0m \u001b[0;32mNone\u001b[0m\u001b[0;34m)\u001b[0m\u001b[0;34m\u001b[0m\u001b[0;34m\u001b[0m\u001b[0m\n\u001b[1;32m    104\u001b[0m \u001b[0;34m\u001b[0m\u001b[0m\n",
            "\u001b[0;31mMessageError\u001b[0m: Error: credential propagation was unsuccessful"
          ]
        }
      ]
    },
    {
      "cell_type": "code",
      "source": [
        "dados['class2'] = dados['class']\n",
        "dados['class2'].astype(bool)\n",
        "dados['class2'].replace({'normal':False,'injection':True,'high_StNum':True,'random_replay':True,'poisoned_high_rate':True,'masquerade_fake_normal':True,'masquerade_fake_fault':True,'inverse_replay':True},inplace=True)"
      ],
      "metadata": {
        "id": "bTfGDH7MwjWK"
      },
      "execution_count": null,
      "outputs": []
    },
    {
      "cell_type": "code",
      "source": [
        "#dados.drop(['nome_coluna'],axis='columns',inplace=True) #Dropa coluna definida"
      ],
      "metadata": {
        "id": "xlYANNJXdTdj"
      },
      "execution_count": null,
      "outputs": []
    },
    {
      "cell_type": "code",
      "source": [
        "#dados.dtypes"
      ],
      "metadata": {
        "id": "ecUlm7HG0rNf"
      },
      "execution_count": null,
      "outputs": []
    },
    {
      "cell_type": "code",
      "source": [
        "dados.head()"
      ],
      "metadata": {
        "id": "Aavv5D4WpaAi",
        "colab": {
          "base_uri": "https://localhost:8080/",
          "height": 270
        },
        "outputId": "f981e4c6-91a3-440a-dba3-a739ac5b6640"
      },
      "execution_count": null,
      "outputs": [
        {
          "output_type": "execute_result",
          "data": {
            "text/plain": [
              "         t  GooseTimestamp  SqNum  StNum  cbStatus  frameLen  \\\n",
              "0  0.01659         1.01659   3635   1203         0       255   \n",
              "1  0.01659         2.01659   3636   1203         0       255   \n",
              "2  0.01659         3.01659   3637   1203         0       255   \n",
              "3  0.01659         4.01659   3638   1203         0       255   \n",
              "4  0.01659         5.01659   3639   1203         0       255   \n",
              "\n",
              "               ethDst              ethSrc      ethType  \\\n",
              "0   01:0c:cd:01:2f:77   01:0c:cd:01:2f:78   0x000088b8   \n",
              "1   01:0c:cd:01:2f:77   01:0c:cd:01:2f:78   0x000088b8   \n",
              "2   01:0c:cd:01:2f:77   01:0c:cd:01:2f:78   0x000088b8   \n",
              "3   01:0c:cd:01:2f:77   01:0c:cd:01:2f:78   0x000088b8   \n",
              "4   01:0c:cd:01:2f:77   01:0c:cd:01:2f:78   0x000088b8   \n",
              "\n",
              "   gooseTimeAllowedtoLive   gooseAppid  gooseLen     TPID           gocbRef  \\\n",
              "0                   11000   0x00003001       241   0x8100   LD/LLN0$GO$gcbA   \n",
              "1                   11000   0x00003001       241   0x8100   LD/LLN0$GO$gcbA   \n",
              "2                   11000   0x00003001       241   0x8100   LD/LLN0$GO$gcbA   \n",
              "3                   11000   0x00003001       241   0x8100   LD/LLN0$GO$gcbA   \n",
              "4                   11000   0x00003001       241   0x8100   LD/LLN0$GO$gcbA   \n",
              "\n",
              "              datSet            goID    test  confRev  ndsCom  \\\n",
              "0   LD/LLN0$IntLockA   InterlockingA   FALSE        1   FALSE   \n",
              "1   LD/LLN0$IntLockA   InterlockingA   FALSE        1   FALSE   \n",
              "2   LD/LLN0$IntLockA   InterlockingA   FALSE        1   FALSE   \n",
              "3   LD/LLN0$IntLockA   InterlockingA   FALSE        1   FALSE   \n",
              "4   LD/LLN0$IntLockA   InterlockingA   FALSE        1   FALSE   \n",
              "\n",
              "   numDatSetEntries  APDUSize protocol  stDiff  sqDiff  gooseLengthDiff  \\\n",
              "0                25       241    GOOSE       0       1                0   \n",
              "1                25       241    GOOSE       0       1                0   \n",
              "2                25       241    GOOSE       0       1                0   \n",
              "3                25       241    GOOSE       0       1                0   \n",
              "4                25       241    GOOSE       0       1                0   \n",
              "\n",
              "   cbStatusDiff  apduSizeDiff  frameLengthDiff  timestampDiff  tDiff  \\\n",
              "0             0             0                0            1.0    0.0   \n",
              "1             0             0                0            1.0    0.0   \n",
              "2             0             0                0            1.0    0.0   \n",
              "3             0             0                0            1.0    0.0   \n",
              "4             0             0                0            1.0    0.0   \n",
              "\n",
              "   timeFromLastChange   class  class2  \n",
              "0                 1.0  normal   False  \n",
              "1                 2.0  normal   False  \n",
              "2                 3.0  normal   False  \n",
              "3                 4.0  normal   False  \n",
              "4                 5.0  normal   False  "
            ],
            "text/html": [
              "\n",
              "  <div id=\"df-481c3ff8-a610-4b16-abf7-008571405909\">\n",
              "    <div class=\"colab-df-container\">\n",
              "      <div>\n",
              "<style scoped>\n",
              "    .dataframe tbody tr th:only-of-type {\n",
              "        vertical-align: middle;\n",
              "    }\n",
              "\n",
              "    .dataframe tbody tr th {\n",
              "        vertical-align: top;\n",
              "    }\n",
              "\n",
              "    .dataframe thead th {\n",
              "        text-align: right;\n",
              "    }\n",
              "</style>\n",
              "<table border=\"1\" class=\"dataframe\">\n",
              "  <thead>\n",
              "    <tr style=\"text-align: right;\">\n",
              "      <th></th>\n",
              "      <th>t</th>\n",
              "      <th>GooseTimestamp</th>\n",
              "      <th>SqNum</th>\n",
              "      <th>StNum</th>\n",
              "      <th>cbStatus</th>\n",
              "      <th>frameLen</th>\n",
              "      <th>ethDst</th>\n",
              "      <th>ethSrc</th>\n",
              "      <th>ethType</th>\n",
              "      <th>gooseTimeAllowedtoLive</th>\n",
              "      <th>gooseAppid</th>\n",
              "      <th>gooseLen</th>\n",
              "      <th>TPID</th>\n",
              "      <th>gocbRef</th>\n",
              "      <th>datSet</th>\n",
              "      <th>goID</th>\n",
              "      <th>test</th>\n",
              "      <th>confRev</th>\n",
              "      <th>ndsCom</th>\n",
              "      <th>numDatSetEntries</th>\n",
              "      <th>APDUSize</th>\n",
              "      <th>protocol</th>\n",
              "      <th>stDiff</th>\n",
              "      <th>sqDiff</th>\n",
              "      <th>gooseLengthDiff</th>\n",
              "      <th>cbStatusDiff</th>\n",
              "      <th>apduSizeDiff</th>\n",
              "      <th>frameLengthDiff</th>\n",
              "      <th>timestampDiff</th>\n",
              "      <th>tDiff</th>\n",
              "      <th>timeFromLastChange</th>\n",
              "      <th>class</th>\n",
              "      <th>class2</th>\n",
              "    </tr>\n",
              "  </thead>\n",
              "  <tbody>\n",
              "    <tr>\n",
              "      <th>0</th>\n",
              "      <td>0.01659</td>\n",
              "      <td>1.01659</td>\n",
              "      <td>3635</td>\n",
              "      <td>1203</td>\n",
              "      <td>0</td>\n",
              "      <td>255</td>\n",
              "      <td>01:0c:cd:01:2f:77</td>\n",
              "      <td>01:0c:cd:01:2f:78</td>\n",
              "      <td>0x000088b8</td>\n",
              "      <td>11000</td>\n",
              "      <td>0x00003001</td>\n",
              "      <td>241</td>\n",
              "      <td>0x8100</td>\n",
              "      <td>LD/LLN0$GO$gcbA</td>\n",
              "      <td>LD/LLN0$IntLockA</td>\n",
              "      <td>InterlockingA</td>\n",
              "      <td>FALSE</td>\n",
              "      <td>1</td>\n",
              "      <td>FALSE</td>\n",
              "      <td>25</td>\n",
              "      <td>241</td>\n",
              "      <td>GOOSE</td>\n",
              "      <td>0</td>\n",
              "      <td>1</td>\n",
              "      <td>0</td>\n",
              "      <td>0</td>\n",
              "      <td>0</td>\n",
              "      <td>0</td>\n",
              "      <td>1.0</td>\n",
              "      <td>0.0</td>\n",
              "      <td>1.0</td>\n",
              "      <td>normal</td>\n",
              "      <td>False</td>\n",
              "    </tr>\n",
              "    <tr>\n",
              "      <th>1</th>\n",
              "      <td>0.01659</td>\n",
              "      <td>2.01659</td>\n",
              "      <td>3636</td>\n",
              "      <td>1203</td>\n",
              "      <td>0</td>\n",
              "      <td>255</td>\n",
              "      <td>01:0c:cd:01:2f:77</td>\n",
              "      <td>01:0c:cd:01:2f:78</td>\n",
              "      <td>0x000088b8</td>\n",
              "      <td>11000</td>\n",
              "      <td>0x00003001</td>\n",
              "      <td>241</td>\n",
              "      <td>0x8100</td>\n",
              "      <td>LD/LLN0$GO$gcbA</td>\n",
              "      <td>LD/LLN0$IntLockA</td>\n",
              "      <td>InterlockingA</td>\n",
              "      <td>FALSE</td>\n",
              "      <td>1</td>\n",
              "      <td>FALSE</td>\n",
              "      <td>25</td>\n",
              "      <td>241</td>\n",
              "      <td>GOOSE</td>\n",
              "      <td>0</td>\n",
              "      <td>1</td>\n",
              "      <td>0</td>\n",
              "      <td>0</td>\n",
              "      <td>0</td>\n",
              "      <td>0</td>\n",
              "      <td>1.0</td>\n",
              "      <td>0.0</td>\n",
              "      <td>2.0</td>\n",
              "      <td>normal</td>\n",
              "      <td>False</td>\n",
              "    </tr>\n",
              "    <tr>\n",
              "      <th>2</th>\n",
              "      <td>0.01659</td>\n",
              "      <td>3.01659</td>\n",
              "      <td>3637</td>\n",
              "      <td>1203</td>\n",
              "      <td>0</td>\n",
              "      <td>255</td>\n",
              "      <td>01:0c:cd:01:2f:77</td>\n",
              "      <td>01:0c:cd:01:2f:78</td>\n",
              "      <td>0x000088b8</td>\n",
              "      <td>11000</td>\n",
              "      <td>0x00003001</td>\n",
              "      <td>241</td>\n",
              "      <td>0x8100</td>\n",
              "      <td>LD/LLN0$GO$gcbA</td>\n",
              "      <td>LD/LLN0$IntLockA</td>\n",
              "      <td>InterlockingA</td>\n",
              "      <td>FALSE</td>\n",
              "      <td>1</td>\n",
              "      <td>FALSE</td>\n",
              "      <td>25</td>\n",
              "      <td>241</td>\n",
              "      <td>GOOSE</td>\n",
              "      <td>0</td>\n",
              "      <td>1</td>\n",
              "      <td>0</td>\n",
              "      <td>0</td>\n",
              "      <td>0</td>\n",
              "      <td>0</td>\n",
              "      <td>1.0</td>\n",
              "      <td>0.0</td>\n",
              "      <td>3.0</td>\n",
              "      <td>normal</td>\n",
              "      <td>False</td>\n",
              "    </tr>\n",
              "    <tr>\n",
              "      <th>3</th>\n",
              "      <td>0.01659</td>\n",
              "      <td>4.01659</td>\n",
              "      <td>3638</td>\n",
              "      <td>1203</td>\n",
              "      <td>0</td>\n",
              "      <td>255</td>\n",
              "      <td>01:0c:cd:01:2f:77</td>\n",
              "      <td>01:0c:cd:01:2f:78</td>\n",
              "      <td>0x000088b8</td>\n",
              "      <td>11000</td>\n",
              "      <td>0x00003001</td>\n",
              "      <td>241</td>\n",
              "      <td>0x8100</td>\n",
              "      <td>LD/LLN0$GO$gcbA</td>\n",
              "      <td>LD/LLN0$IntLockA</td>\n",
              "      <td>InterlockingA</td>\n",
              "      <td>FALSE</td>\n",
              "      <td>1</td>\n",
              "      <td>FALSE</td>\n",
              "      <td>25</td>\n",
              "      <td>241</td>\n",
              "      <td>GOOSE</td>\n",
              "      <td>0</td>\n",
              "      <td>1</td>\n",
              "      <td>0</td>\n",
              "      <td>0</td>\n",
              "      <td>0</td>\n",
              "      <td>0</td>\n",
              "      <td>1.0</td>\n",
              "      <td>0.0</td>\n",
              "      <td>4.0</td>\n",
              "      <td>normal</td>\n",
              "      <td>False</td>\n",
              "    </tr>\n",
              "    <tr>\n",
              "      <th>4</th>\n",
              "      <td>0.01659</td>\n",
              "      <td>5.01659</td>\n",
              "      <td>3639</td>\n",
              "      <td>1203</td>\n",
              "      <td>0</td>\n",
              "      <td>255</td>\n",
              "      <td>01:0c:cd:01:2f:77</td>\n",
              "      <td>01:0c:cd:01:2f:78</td>\n",
              "      <td>0x000088b8</td>\n",
              "      <td>11000</td>\n",
              "      <td>0x00003001</td>\n",
              "      <td>241</td>\n",
              "      <td>0x8100</td>\n",
              "      <td>LD/LLN0$GO$gcbA</td>\n",
              "      <td>LD/LLN0$IntLockA</td>\n",
              "      <td>InterlockingA</td>\n",
              "      <td>FALSE</td>\n",
              "      <td>1</td>\n",
              "      <td>FALSE</td>\n",
              "      <td>25</td>\n",
              "      <td>241</td>\n",
              "      <td>GOOSE</td>\n",
              "      <td>0</td>\n",
              "      <td>1</td>\n",
              "      <td>0</td>\n",
              "      <td>0</td>\n",
              "      <td>0</td>\n",
              "      <td>0</td>\n",
              "      <td>1.0</td>\n",
              "      <td>0.0</td>\n",
              "      <td>5.0</td>\n",
              "      <td>normal</td>\n",
              "      <td>False</td>\n",
              "    </tr>\n",
              "  </tbody>\n",
              "</table>\n",
              "</div>\n",
              "      <button class=\"colab-df-convert\" onclick=\"convertToInteractive('df-481c3ff8-a610-4b16-abf7-008571405909')\"\n",
              "              title=\"Convert this dataframe to an interactive table.\"\n",
              "              style=\"display:none;\">\n",
              "        \n",
              "  <svg xmlns=\"http://www.w3.org/2000/svg\" height=\"24px\"viewBox=\"0 0 24 24\"\n",
              "       width=\"24px\">\n",
              "    <path d=\"M0 0h24v24H0V0z\" fill=\"none\"/>\n",
              "    <path d=\"M18.56 5.44l.94 2.06.94-2.06 2.06-.94-2.06-.94-.94-2.06-.94 2.06-2.06.94zm-11 1L8.5 8.5l.94-2.06 2.06-.94-2.06-.94L8.5 2.5l-.94 2.06-2.06.94zm10 10l.94 2.06.94-2.06 2.06-.94-2.06-.94-.94-2.06-.94 2.06-2.06.94z\"/><path d=\"M17.41 7.96l-1.37-1.37c-.4-.4-.92-.59-1.43-.59-.52 0-1.04.2-1.43.59L10.3 9.45l-7.72 7.72c-.78.78-.78 2.05 0 2.83L4 21.41c.39.39.9.59 1.41.59.51 0 1.02-.2 1.41-.59l7.78-7.78 2.81-2.81c.8-.78.8-2.07 0-2.86zM5.41 20L4 18.59l7.72-7.72 1.47 1.35L5.41 20z\"/>\n",
              "  </svg>\n",
              "      </button>\n",
              "      \n",
              "  <style>\n",
              "    .colab-df-container {\n",
              "      display:flex;\n",
              "      flex-wrap:wrap;\n",
              "      gap: 12px;\n",
              "    }\n",
              "\n",
              "    .colab-df-convert {\n",
              "      background-color: #E8F0FE;\n",
              "      border: none;\n",
              "      border-radius: 50%;\n",
              "      cursor: pointer;\n",
              "      display: none;\n",
              "      fill: #1967D2;\n",
              "      height: 32px;\n",
              "      padding: 0 0 0 0;\n",
              "      width: 32px;\n",
              "    }\n",
              "\n",
              "    .colab-df-convert:hover {\n",
              "      background-color: #E2EBFA;\n",
              "      box-shadow: 0px 1px 2px rgba(60, 64, 67, 0.3), 0px 1px 3px 1px rgba(60, 64, 67, 0.15);\n",
              "      fill: #174EA6;\n",
              "    }\n",
              "\n",
              "    [theme=dark] .colab-df-convert {\n",
              "      background-color: #3B4455;\n",
              "      fill: #D2E3FC;\n",
              "    }\n",
              "\n",
              "    [theme=dark] .colab-df-convert:hover {\n",
              "      background-color: #434B5C;\n",
              "      box-shadow: 0px 1px 3px 1px rgba(0, 0, 0, 0.15);\n",
              "      filter: drop-shadow(0px 1px 2px rgba(0, 0, 0, 0.3));\n",
              "      fill: #FFFFFF;\n",
              "    }\n",
              "  </style>\n",
              "\n",
              "      <script>\n",
              "        const buttonEl =\n",
              "          document.querySelector('#df-481c3ff8-a610-4b16-abf7-008571405909 button.colab-df-convert');\n",
              "        buttonEl.style.display =\n",
              "          google.colab.kernel.accessAllowed ? 'block' : 'none';\n",
              "\n",
              "        async function convertToInteractive(key) {\n",
              "          const element = document.querySelector('#df-481c3ff8-a610-4b16-abf7-008571405909');\n",
              "          const dataTable =\n",
              "            await google.colab.kernel.invokeFunction('convertToInteractive',\n",
              "                                                     [key], {});\n",
              "          if (!dataTable) return;\n",
              "\n",
              "          const docLinkHtml = 'Like what you see? Visit the ' +\n",
              "            '<a target=\"_blank\" href=https://colab.research.google.com/notebooks/data_table.ipynb>data table notebook</a>'\n",
              "            + ' to learn more about interactive tables.';\n",
              "          element.innerHTML = '';\n",
              "          dataTable['output_type'] = 'display_data';\n",
              "          await google.colab.output.renderOutput(dataTable, element);\n",
              "          const docLink = document.createElement('div');\n",
              "          docLink.innerHTML = docLinkHtml;\n",
              "          element.appendChild(docLink);\n",
              "        }\n",
              "      </script>\n",
              "    </div>\n",
              "  </div>\n",
              "  "
            ]
          },
          "metadata": {},
          "execution_count": 4
        }
      ]
    },
    {
      "cell_type": "code",
      "source": [
        "dados['Results_VP'].value_counts()"
      ],
      "metadata": {
        "id": "xHdhxiT7jY24",
        "colab": {
          "base_uri": "https://localhost:8080/",
          "height": 502
        },
        "outputId": "dd5f84ab-ee95-4374-84cb-6b6f2bf77742"
      },
      "execution_count": null,
      "outputs": [
        {
          "output_type": "error",
          "ename": "KeyError",
          "evalue": "ignored",
          "traceback": [
            "\u001b[0;31m---------------------------------------------------------------------------\u001b[0m",
            "\u001b[0;31mKeyError\u001b[0m                                  Traceback (most recent call last)",
            "\u001b[0;32m/usr/local/lib/python3.7/dist-packages/pandas/core/indexes/base.py\u001b[0m in \u001b[0;36mget_loc\u001b[0;34m(self, key, method, tolerance)\u001b[0m\n\u001b[1;32m   3360\u001b[0m             \u001b[0;32mtry\u001b[0m\u001b[0;34m:\u001b[0m\u001b[0;34m\u001b[0m\u001b[0;34m\u001b[0m\u001b[0m\n\u001b[0;32m-> 3361\u001b[0;31m                 \u001b[0;32mreturn\u001b[0m \u001b[0mself\u001b[0m\u001b[0;34m.\u001b[0m\u001b[0m_engine\u001b[0m\u001b[0;34m.\u001b[0m\u001b[0mget_loc\u001b[0m\u001b[0;34m(\u001b[0m\u001b[0mcasted_key\u001b[0m\u001b[0;34m)\u001b[0m\u001b[0;34m\u001b[0m\u001b[0;34m\u001b[0m\u001b[0m\n\u001b[0m\u001b[1;32m   3362\u001b[0m             \u001b[0;32mexcept\u001b[0m \u001b[0mKeyError\u001b[0m \u001b[0;32mas\u001b[0m \u001b[0merr\u001b[0m\u001b[0;34m:\u001b[0m\u001b[0;34m\u001b[0m\u001b[0;34m\u001b[0m\u001b[0m\n",
            "\u001b[0;32m/usr/local/lib/python3.7/dist-packages/pandas/_libs/index.pyx\u001b[0m in \u001b[0;36mpandas._libs.index.IndexEngine.get_loc\u001b[0;34m()\u001b[0m\n",
            "\u001b[0;32m/usr/local/lib/python3.7/dist-packages/pandas/_libs/index.pyx\u001b[0m in \u001b[0;36mpandas._libs.index.IndexEngine.get_loc\u001b[0;34m()\u001b[0m\n",
            "\u001b[0;32mpandas/_libs/hashtable_class_helper.pxi\u001b[0m in \u001b[0;36mpandas._libs.hashtable.PyObjectHashTable.get_item\u001b[0;34m()\u001b[0m\n",
            "\u001b[0;32mpandas/_libs/hashtable_class_helper.pxi\u001b[0m in \u001b[0;36mpandas._libs.hashtable.PyObjectHashTable.get_item\u001b[0;34m()\u001b[0m\n",
            "\u001b[0;31mKeyError\u001b[0m: 'Results_VP'",
            "\nThe above exception was the direct cause of the following exception:\n",
            "\u001b[0;31mKeyError\u001b[0m                                  Traceback (most recent call last)",
            "\u001b[0;32m<ipython-input-5-63c3b9ed9564>\u001b[0m in \u001b[0;36m<module>\u001b[0;34m()\u001b[0m\n\u001b[0;32m----> 1\u001b[0;31m \u001b[0mdados\u001b[0m\u001b[0;34m[\u001b[0m\u001b[0;34m'Results_VP'\u001b[0m\u001b[0;34m]\u001b[0m\u001b[0;34m.\u001b[0m\u001b[0mvalue_counts\u001b[0m\u001b[0;34m(\u001b[0m\u001b[0;34m)\u001b[0m\u001b[0;34m\u001b[0m\u001b[0;34m\u001b[0m\u001b[0m\n\u001b[0m",
            "\u001b[0;32m/usr/local/lib/python3.7/dist-packages/pandas/core/frame.py\u001b[0m in \u001b[0;36m__getitem__\u001b[0;34m(self, key)\u001b[0m\n\u001b[1;32m   3456\u001b[0m             \u001b[0;32mif\u001b[0m \u001b[0mself\u001b[0m\u001b[0;34m.\u001b[0m\u001b[0mcolumns\u001b[0m\u001b[0;34m.\u001b[0m\u001b[0mnlevels\u001b[0m \u001b[0;34m>\u001b[0m \u001b[0;36m1\u001b[0m\u001b[0;34m:\u001b[0m\u001b[0;34m\u001b[0m\u001b[0;34m\u001b[0m\u001b[0m\n\u001b[1;32m   3457\u001b[0m                 \u001b[0;32mreturn\u001b[0m \u001b[0mself\u001b[0m\u001b[0;34m.\u001b[0m\u001b[0m_getitem_multilevel\u001b[0m\u001b[0;34m(\u001b[0m\u001b[0mkey\u001b[0m\u001b[0;34m)\u001b[0m\u001b[0;34m\u001b[0m\u001b[0;34m\u001b[0m\u001b[0m\n\u001b[0;32m-> 3458\u001b[0;31m             \u001b[0mindexer\u001b[0m \u001b[0;34m=\u001b[0m \u001b[0mself\u001b[0m\u001b[0;34m.\u001b[0m\u001b[0mcolumns\u001b[0m\u001b[0;34m.\u001b[0m\u001b[0mget_loc\u001b[0m\u001b[0;34m(\u001b[0m\u001b[0mkey\u001b[0m\u001b[0;34m)\u001b[0m\u001b[0;34m\u001b[0m\u001b[0;34m\u001b[0m\u001b[0m\n\u001b[0m\u001b[1;32m   3459\u001b[0m             \u001b[0;32mif\u001b[0m \u001b[0mis_integer\u001b[0m\u001b[0;34m(\u001b[0m\u001b[0mindexer\u001b[0m\u001b[0;34m)\u001b[0m\u001b[0;34m:\u001b[0m\u001b[0;34m\u001b[0m\u001b[0;34m\u001b[0m\u001b[0m\n\u001b[1;32m   3460\u001b[0m                 \u001b[0mindexer\u001b[0m \u001b[0;34m=\u001b[0m \u001b[0;34m[\u001b[0m\u001b[0mindexer\u001b[0m\u001b[0;34m]\u001b[0m\u001b[0;34m\u001b[0m\u001b[0;34m\u001b[0m\u001b[0m\n",
            "\u001b[0;32m/usr/local/lib/python3.7/dist-packages/pandas/core/indexes/base.py\u001b[0m in \u001b[0;36mget_loc\u001b[0;34m(self, key, method, tolerance)\u001b[0m\n\u001b[1;32m   3361\u001b[0m                 \u001b[0;32mreturn\u001b[0m \u001b[0mself\u001b[0m\u001b[0;34m.\u001b[0m\u001b[0m_engine\u001b[0m\u001b[0;34m.\u001b[0m\u001b[0mget_loc\u001b[0m\u001b[0;34m(\u001b[0m\u001b[0mcasted_key\u001b[0m\u001b[0;34m)\u001b[0m\u001b[0;34m\u001b[0m\u001b[0;34m\u001b[0m\u001b[0m\n\u001b[1;32m   3362\u001b[0m             \u001b[0;32mexcept\u001b[0m \u001b[0mKeyError\u001b[0m \u001b[0;32mas\u001b[0m \u001b[0merr\u001b[0m\u001b[0;34m:\u001b[0m\u001b[0;34m\u001b[0m\u001b[0;34m\u001b[0m\u001b[0m\n\u001b[0;32m-> 3363\u001b[0;31m                 \u001b[0;32mraise\u001b[0m \u001b[0mKeyError\u001b[0m\u001b[0;34m(\u001b[0m\u001b[0mkey\u001b[0m\u001b[0;34m)\u001b[0m \u001b[0;32mfrom\u001b[0m \u001b[0merr\u001b[0m\u001b[0;34m\u001b[0m\u001b[0;34m\u001b[0m\u001b[0m\n\u001b[0m\u001b[1;32m   3364\u001b[0m \u001b[0;34m\u001b[0m\u001b[0m\n\u001b[1;32m   3365\u001b[0m         \u001b[0;32mif\u001b[0m \u001b[0mis_scalar\u001b[0m\u001b[0;34m(\u001b[0m\u001b[0mkey\u001b[0m\u001b[0;34m)\u001b[0m \u001b[0;32mand\u001b[0m \u001b[0misna\u001b[0m\u001b[0;34m(\u001b[0m\u001b[0mkey\u001b[0m\u001b[0;34m)\u001b[0m \u001b[0;32mand\u001b[0m \u001b[0;32mnot\u001b[0m \u001b[0mself\u001b[0m\u001b[0;34m.\u001b[0m\u001b[0mhasnans\u001b[0m\u001b[0;34m:\u001b[0m\u001b[0;34m\u001b[0m\u001b[0;34m\u001b[0m\u001b[0m\n",
            "\u001b[0;31mKeyError\u001b[0m: 'Results_VP'"
          ]
        }
      ]
    },
    {
      "cell_type": "code",
      "source": [
        "dados['Results_VN'].value_counts()"
      ],
      "metadata": {
        "id": "hsKlyqdddPjN",
        "colab": {
          "base_uri": "https://localhost:8080/"
        },
        "outputId": "395f58af-e9b9-4dd1-97f4-f06c596c71c2"
      },
      "execution_count": null,
      "outputs": [
        {
          "output_type": "execute_result",
          "data": {
            "text/plain": [
              "False    51\n",
              "True      9\n",
              "Name: Results_VN, dtype: int64"
            ]
          },
          "metadata": {},
          "execution_count": 58
        }
      ]
    },
    {
      "cell_type": "code",
      "source": [
        "dados['Results_FP'].value_counts()"
      ],
      "metadata": {
        "id": "QO7hubvvdRw9",
        "colab": {
          "base_uri": "https://localhost:8080/"
        },
        "outputId": "f861aae3-fec7-4cec-90dd-368c5ab3cd17"
      },
      "execution_count": null,
      "outputs": [
        {
          "output_type": "execute_result",
          "data": {
            "text/plain": [
              "False    60\n",
              "Name: Results_FP, dtype: int64"
            ]
          },
          "metadata": {},
          "execution_count": 57
        }
      ]
    },
    {
      "cell_type": "code",
      "source": [
        "dados['Results_FN'].value_counts()"
      ],
      "metadata": {
        "colab": {
          "base_uri": "https://localhost:8080/"
        },
        "id": "IYbymrI2dST-",
        "outputId": "9098ea7b-f005-4983-fc1a-af883cae22b2"
      },
      "execution_count": null,
      "outputs": [
        {
          "output_type": "execute_result",
          "data": {
            "text/plain": [
              "True     51\n",
              "False     9\n",
              "Name: Results_FN, dtype: int64"
            ]
          },
          "metadata": {},
          "execution_count": 56
        }
      ]
    },
    {
      "cell_type": "code",
      "source": [
        "dados.drop(['R6.0_FP'],axis='columns',inplace=True) #Dropa coluna definida"
      ],
      "metadata": {
        "id": "S8xwTeFikmTR"
      },
      "execution_count": null,
      "outputs": []
    },
    {
      "cell_type": "code",
      "source": [
        "#R1 GOOSE messages must have MAC address starting with 01-0c-cd-01\n",
        "dados['teste_ethSrc'] = dados.ethSrc.str.contains(\"01:0c:cd:01\")\n",
        "dados['teste_ethDst']= dados.ethDst.str.contains(\"01:0c:cd:01\")\n",
        "dados['R1'] = dados[['teste_ethSrc','teste_ethDst']].apply(lambda x: x['teste_ethSrc'] and x['teste_ethDst'],axis='columns')\n",
        "dados['R1_VN'] = (dados['R1'] == dados['class2']) & (dados['class2'])\n",
        "dados['R1_VP'] = (dados['R1'] == dados['class2']) & (dados['class2'] == False)\n",
        "dados['R1_FN'] = (dados['R1'] != dados['class2']) & (dados['class2'] == False)\n",
        "dados['R1_FP'] = (dados['R1'] != dados['class2']) & (dados['class2'])"
      ],
      "metadata": {
        "id": "AE3AI9TFoOEL"
      },
      "execution_count": null,
      "outputs": []
    },
    {
      "cell_type": "code",
      "source": [
        "#R2 GOOSE messages must have the TPID field with value 0x8100\n",
        "dados['R2'] = dados.TPID.str.contains(\"0x8100\")\n",
        "dados['R2_VN'] = (dados['R2'] == dados['class2']) & (dados['class2'])\n",
        "dados['R2_VP'] = (dados['R2'] == dados['class2']) & (dados['class2'] == False)\n",
        "dados['R2_FN'] = (dados['R2'] != dados['class2']) & (dados['class2'] == False)\n",
        "dados['R2_FP'] = (dados['R2'] != dados['class2']) & (dados['class2'])"
      ],
      "metadata": {
        "id": "eqM2wkVbooIF"
      },
      "execution_count": null,
      "outputs": []
    },
    {
      "cell_type": "code",
      "source": [
        "#R3 GOOSE messages must have the ethertype field equal to 0x88B8\n",
        "dados['R3'] = dados.ethType.str.contains(\"0x88B8\")\n",
        "dados['R3_VN'] = (dados['R3'] == dados['class2']) & (dados['class2'])\n",
        "dados['R3_VP'] = (dados['R3'] == dados['class2']) & (dados['class2'] == False)\n",
        "dados['R3_FN'] = (dados['R3'] != dados['class2']) & (dados['class2'] == False)\n",
        "dados['R3_FP'] = (dados['R3'] != dados['class2']) & (dados['class2'])"
      ],
      "metadata": {
        "id": "Z4JfL6v7oqLy"
      },
      "execution_count": null,
      "outputs": []
    },
    {
      "cell_type": "code",
      "source": [
        "#R4 GOOSE messages must have TimeAllowedToLive equal to double of the value of MaxTime\n",
        "dados['R4'] = dados['gooseTimeAllowedtoLive'] == (max_time*2)\n",
        "dados['R4_VN'] = (dados['R4'] == dados['class2']) & (dados['class2'])\n",
        "dados['R4_VP'] = (dados['R4'] == dados['class2']) & (dados['class2'] == False)\n",
        "dados['R4_FN'] = (dados['R4'] != dados['class2']) & (dados['class2'] == False)\n",
        "dados['R4_FP'] = (dados['R4'] != dados['class2']) & (dados['class2'])"
      ],
      "metadata": {
        "id": "8ZmhTWYPosVR"
      },
      "execution_count": null,
      "outputs": []
    },
    {
      "cell_type": "code",
      "source": [
        "#R5 GOOSE messages must have the APPID field formatted as a 4-byte hexadecimal (e.g, 0000-3FFF)\n",
        "  # Formatado em hexadecimal ??dados[R5] = hex(dados[APPID])??\n",
        "dados['R5'] = dados['gooseAppid'].apply(lambda x: x.split('0x')[1][:4]+'-'+ x.split('0x')[1][4:])\n",
        "dados['R5_VN'] = (dados['R5'] == dados['class2']) & (dados['class2'])\n",
        "dados['R5_VP'] = (dados['R5'] == dados['class2']) & (dados['class2'] == False)\n",
        "dados['R5_FN'] = (dados['R5'] != dados['class2']) & (dados['class2'] == False)\n",
        "dados['R5_FP'] = (dados['R5'] != dados['class2']) & (dados['class2'])"
      ],
      "metadata": {
        "id": "aebJZ7hxssUS"
      },
      "execution_count": null,
      "outputs": []
    },
    {
      "cell_type": "code",
      "source": [
        "#R6 Consecutive GOOSE messages must have consistent values for fields:gocbRef, gooseTimeAllowedtoLive, datSet, goID, test,confRev,ndsCom and numDatSetEntries\n",
        "dados['R6.0'] = dados['gocbRef'] == dados['gocbRef'].shift()\n",
        "dados['R6.0_VN'] = (dados['R6.0'] == dados['class2']) & (dados['class2'])\n",
        "dados['R6.0_VP'] = (dados['R6.0'] == dados['class2']) & (dados['class2'] == False)\n",
        "dados['R6.0_FN'] = (dados['R6.0'] != dados['class2']) & (dados['class2'] == False)\n",
        "dados['R6.0_FP'] = (dados['R6.0'] != dados['class2']) & (dados['class2'])\n",
        "\n",
        "dados['R6.1'] = dados['gooseTimeAllowedtoLive'].shift() - dados['gooseTimeAllowedtoLive']\n",
        "dados.loc[dados['R6.1'] <= 0,'R6.1'] = True \n",
        "dados.loc[dados['R6.1'] > 0,'R6.1'] = False\n",
        "dados['R6.1_VN'] = (dados['R6.1'] == dados['class2']) & (dados['class2'])\n",
        "dados['R6.1_VP'] = (dados['R6.1'] == dados['class2']) & (dados['class2'] == False)\n",
        "dados['R6.1_FN'] = (dados['R6.1'] != dados['class2']) & (dados['class2'] == False)\n",
        "dados['R6.1_FP'] = (dados['R6.1'] != dados['class2']) & (dados['class2'])\n",
        "\n",
        "dados['R6.2'] = dados['datSet'] == dados['datSet'].shift()\n",
        "dados['R6.2_VN'] = (dados['R6.2'] == dados['class2']) & (dados['class2'])\n",
        "dados['R6.2_VP'] = (dados['R6.2'] == dados['class2']) & (dados['class2'] == False)\n",
        "dados['R6.2_FN'] = (dados['R6.2'] != dados['class2']) & (dados['class2'] == False)\n",
        "dados['R6.2_FP'] = (dados['R6.2'] != dados['class2']) & (dados['class2'])\n",
        "\n",
        "dados['R6.3'] = dados['goID'] == dados['goID'].shift()\n",
        "dados['R6.3_VN'] = (dados['R6.3'] == dados['class2']) & (dados['class2'])\n",
        "dados['R6.3_VP'] = (dados['R6.3'] == dados['class2']) & (dados['class2'] == False)\n",
        "dados['R6.3_FN'] = (dados['R6.3'] != dados['class2']) & (dados['class2'] == False)\n",
        "dados['R6.3_FP'] = (dados['R6.3'] != dados['class2']) & (dados['class2'])\n",
        "\n",
        "dados['R6.4'] = dados['test'] == dados['test'].shift()\n",
        "dados['R6.4_VN'] = (dados['R6.4'] == dados['class2']) & (dados['class2'])\n",
        "dados['R6.4_VP'] = (dados['R6.4'] == dados['class2']) & (dados['class2'] == False)\n",
        "dados['R6.4_FN'] = (dados['R6.4'] != dados['class2']) & (dados['class2'] == False)\n",
        "dados['R6.4_FP'] = (dados['R6.4'] != dados['class2']) & (dados['class2'])\n",
        "\n",
        "\n",
        "dados['R6.5'] = dados['confRev'].shift() - dados['confRev']\n",
        "dados.loc[dados['R6.5'] <= 0,'R6.5'] = True \n",
        "dados.loc[dados['R6.5'] > 0,'R6.5'] = False\n",
        "dados['R6.5_VN'] = (dados['R6.5'] == dados['class2']) & (dados['class2'])\n",
        "dados['R6.5_VP'] = (dados['R6.5'] == dados['class2']) & (dados['class2'] == False)\n",
        "dados['R6.5_FN'] = (dados['R6.5'] != dados['class2']) & (dados['class2'] == False)\n",
        "dados['R6.5_FP'] = (dados['R6.5'] != dados['class2']) & (dados['class2'])\n",
        "\n",
        "dados['R6.6'] = dados['ndsCom'] == dados['ndsCom'].shift()\n",
        "dados['R6.6_VN'] = (dados['R6.6'] == dados['class2']) & (dados['class2'])\n",
        "dados['R6.6_VP'] = (dados['R6.6'] == dados['class2']) & (dados['class2'] == False)\n",
        "dados['R6.6_FN'] = (dados['R6.6'] != dados['class2']) & (dados['class2'] == False)\n",
        "dados['R6.6_FP'] = (dados['R6.6'] != dados['class2']) & (dados['class2'])\n",
        "\n",
        "dados['R6.7'] = dados['numDatSetEntries'].shift() - dados['numDatSetEntries']\n",
        "dados.loc[dados['R6.7'] <= 0,'R6.7'] = True \n",
        "dados.loc[dados['R6.7'] > 0,'R6.7'] = False \n",
        "dados['R6.7_VN'] = (dados['R6.7'] == dados['class2']) & (dados['class2'])\n",
        "dados['R6.7_VP'] = (dados['R6.7'] == dados['class2']) & (dados['class2'] == False)\n",
        "dados['R6.7_FN'] = (dados['R6.7'] != dados['class2']) & (dados['class2'] == False)\n",
        "dados['R6.7_FP'] = (dados['R6.7'] != dados['class2']) & (dados['class2'])\n",
        "\n",
        "dados['R6.8'] = dados['t'].shift() - dados['t'] #subtrair os dois valores \n",
        "dados.loc[dados['R6.8'] <= 0,'R6.8'] = True #substração negativa significa q o de cima é menor q o de baixo\n",
        "dados.loc[dados['R6.8'] > 0,'R6.8'] = False #substração positiva significa q o de cima é maior q o de baixo\n",
        "dados['R6.8_VN'] = (dados['R6.8'] == dados['class2']) & (dados['class2'])\n",
        "dados['R6.8_VP'] = (dados['R6.8'] == dados['class2']) & (dados['class2'] == False)\n",
        "dados['R6.8_FN'] = (dados['R6.8'] != dados['class2']) & (dados['class2'] == False)\n",
        "dados['R6.8_FP'] = (dados['R6.8'] != dados['class2']) & (dados['class2'])\n",
        "  "
      ],
      "metadata": {
        "id": "IIr0lbVKto2v"
      },
      "execution_count": null,
      "outputs": []
    },
    {
      "cell_type": "code",
      "source": [
        "#R7 GOOSE messages must have the APPID field matching the last two octets of the destination multicast address\n",
        "dados['ethDst_formatR7'] = dados['ethDst'].apply(lambda x: \"0x\"+\"\".join(x.split(\":\")[-4:])) #0x no começo indica o formato hex. Join ele une a string q foi separada pelo \":\", -4 no começo indica quantas posições vamos considerar\n",
        "dados['R7'] = dados['ethDst_formatR7'] == dados['gooseAppid']\n",
        "dados['R7_VN'] = (dados['R7'] == dados['class2']) & (dados['class2'])\n",
        "dados['R7_VP'] = (dados['R7'] == dados['class2']) & (dados['class2'] == False)\n",
        "dados['R7_FN'] = (dados['R7'] != dados['class2']) & (dados['class2'] == False)\n",
        "dados['R7_FP'] = (dados['R7'] != dados['class2']) & (dados['class2'])"
      ],
      "metadata": {
        "id": "Y039o33Wv_yN"
      },
      "execution_count": null,
      "outputs": []
    },
    {
      "cell_type": "code",
      "source": [
        "#R8 The IED control block name must be consistent with the value of the goID field (i.e., the 𝐿𝐷/𝐿𝑁 value in the gocoRef field must match the datSet field from the GOOSE APDU)\n",
        "dados['R8'] = dados.gocbRef.str.contains('datSet')\n",
        "dados['R8_VN'] = (dados['R8'] == dados['class2']) & (dados['class2'])\n",
        "dados['R8_VP'] = (dados['R8'] == dados['class2']) & (dados['class2'] == False)\n",
        "dados['R8_FN'] = (dados['R8'] != dados['class2']) & (dados['class2'] == False)\n",
        "dados['R8_FP'] = (dados['R8'] != dados['class2']) & (dados['class2'])"
      ],
      "metadata": {
        "id": "-IScWXfnm-3d"
      },
      "execution_count": null,
      "outputs": []
    },
    {
      "cell_type": "code",
      "source": [
        "#R9 The size of frames containing GOOSE messages should be equal to 8 𝑏𝑦𝑡𝑒𝑠+ 𝐴𝑃𝐷𝑈 𝑠𝑖𝑧𝑒, and 𝐴𝑃𝐷𝑈 𝑠𝑖𝑧𝑒 should be less than 1492 𝑏𝑦𝑡𝑒𝑠\n",
        "dados['R9'] = (dados['APDUSize'] >= 8) & (dados['gooseLen'] < 1492)\n",
        "dados['R9_VN'] = (dados['R9'] == dados['class2']) & (dados['class2'])\n",
        "dados['R9_VP'] = (dados['R9'] == dados['class2']) & (dados['class2'] == False)\n",
        "dados['R9_FN'] = (dados['R9'] != dados['class2']) & (dados['class2'] == False)\n",
        "dados['R9_FP'] = (dados['R9'] != dados['class2']) & (dados['class2'])"
      ],
      "metadata": {
        "id": "Jemsi-Eum_7B"
      },
      "execution_count": null,
      "outputs": []
    },
    {
      "cell_type": "code",
      "source": [
        "#R10 The SqNum in GOOSE messages should be set to zero whenever the value of the StNum changes (w.r.t the previous message)\n",
        "dados['R10'] = dados['StNum'].shift() - dados['StNum']\n",
        "dados['R10'] = ((dados['R10'] == 0)) | ((dados['R10'] == 1) & (dados['SqNum'] == 1))\n",
        "dados['R10_VN'] = (dados['R10'] == dados['class2']) & (dados['class2'])\n",
        "dados['R10_VP'] = (dados['R10'] == dados['class2']) & (dados['class2'] == False)\n",
        "dados['R10_FN'] = (dados['R10'] != dados['class2']) & (dados['class2'] == False)\n",
        "dados['R10_FP'] = (dados['R10'] != dados['class2']) & (dados['class2'])"
      ],
      "metadata": {
        "id": "oO_ALfhwnB_P"
      },
      "execution_count": null,
      "outputs": []
    },
    {
      "cell_type": "code",
      "source": [
        "#R11 The number of messages captured in an interval must not exceed a pre-defined threshold (20% above the expected maximum)"
      ],
      "metadata": {
        "id": "G693D7dIv34_"
      },
      "execution_count": null,
      "outputs": []
    },
    {
      "cell_type": "code",
      "source": [
        "#R12 The number of messages captured in an interval must not be equal to zero\n",
        "dados['R12'] = dados['GooseTimestamp'] - dados['GooseTimestamp'].shift()\n",
        "dados['R12'] = ((dados['R12'] >= 0))\n",
        "dados['R12_VN'] = (dados['R12'] == dados['class2']) & (dados['class2'])\n",
        "dados['R12_VP'] = (dados['R12'] == dados['class2']) & (dados['class2'] == False)\n",
        "dados['R12_FN'] = (dados['R12'] != dados['class2']) & (dados['class2'] == False)\n",
        "dados['R12_FP'] = (dados['R12'] != dados['class2']) & (dados['class2'])"
      ],
      "metadata": {
        "id": "Qyr_r8yTwHVf"
      },
      "execution_count": null,
      "outputs": []
    },
    {
      "cell_type": "code",
      "source": [
        "#R15 The Recency metric, represented by the last GOOSE message’s arrival, must respect a minimum and a maximum threshold\n",
        "dados['R15'] =((dados['timestampDiff'] >= 0.003) & (dados['timestampDiff'] <= 1000))\n",
        "dados['R15_VN'] = (dados['R15'] == dados['class2']) & (dados['class2'])\n",
        "dados['R15_VP'] = (dados['R15'] == dados['class2']) & (dados['class2'] == False)\n",
        "dados['R15_FN'] = (dados['R15'] != dados['class2']) & (dados['class2'] == False)\n",
        "dados['R15_FP'] = (dados['R15'] != dados['class2']) & (dados['class2'])"
      ],
      "metadata": {
        "id": "4tIDlYKlw9sS"
      },
      "execution_count": null,
      "outputs": []
    },
    {
      "cell_type": "code",
      "source": [
        "#R16 The Frequency metric, represented by the average number of received GOOSE messages, must respect a minimum and a maximum predefined threshold\n",
        "  #Quantidade de linhas(mensagens) em 1s foi   maior que 7 e menor que 1"
      ],
      "metadata": {
        "id": "CMw0hAvixC8W"
      },
      "execution_count": null,
      "outputs": []
    },
    {
      "cell_type": "code",
      "source": [
        "#R17 The Monetary metric, represented by the total number of received GOOSE messages, must be within a predefined threshold [46]. The difference from rule #𝑅11) is that this rule considers only received GOOSE messages\n",
        "  #Igual a R11"
      ],
      "metadata": {
        "id": "bhZTkZgHxJaX"
      },
      "execution_count": null,
      "outputs": []
    },
    {
      "cell_type": "code",
      "source": [
        "#R18 Only messages with specific source port, IP and MAC addresses are allowed\n",
        "#srcEth\n",
        "#comparar com os valores de srcEth e srcDst"
      ],
      "metadata": {
        "id": "6lyJGNyUxOHX"
      },
      "execution_count": null,
      "outputs": []
    },
    {
      "cell_type": "code",
      "source": [
        "#R19 Only MMS, COTP, TPKT, and SNTP protocols are allowed on the station level network and only the GOOSE, SV, and IEEE 1588 protocols are allowed on the process level network\n",
        "dados['R19'] = ((dados['protocol'] == 'GOOSE'))\n",
        "dados['R19_VN'] = (dados['R19'] == dados['class2']) & (dados['class2'])\n",
        "dados['R19_VP'] = (dados['R19'] == dados['class2']) & (dados['class2'] == False)\n",
        "dados['R19_FN'] = (dados['R19'] != dados['class2']) & (dados['class2'] == False)\n",
        "dados['R19_FP'] = (dados['R19'] != dados['class2']) & (dados['class2'])"
      ],
      "metadata": {
        "id": "k96xzUcVxQeW"
      },
      "execution_count": null,
      "outputs": []
    },
    {
      "cell_type": "code",
      "source": [
        "#R21 The number of bytes that travel per second must not exceed a predefined threshold"
      ],
      "metadata": {
        "id": "0XZvL8DCx09C"
      },
      "execution_count": null,
      "outputs": []
    },
    {
      "cell_type": "code",
      "source": [
        "#R22 The number of packets that travel per second must not exceed a predefined threshold\n",
        "  #Igual a R11"
      ],
      "metadata": {
        "id": "W0ziWgkUx60Q"
      },
      "execution_count": null,
      "outputs": []
    },
    {
      "cell_type": "code",
      "source": [
        "#R23 The length of the packet (specified in the packet header) must not exceed a predefined threshold\n",
        "dados['R23'] = (dados['frameLen'] >= 300)\n",
        "dados['R23_VN'] = (dados['R23'] == dados['class2']) & (dados['class2'])\n",
        "dados['R23_VP'] = (dados['R23'] == dados['class2']) & (dados['class2'] == False)\n",
        "dados['R23_FN'] = (dados['R23'] != dados['class2']) & (dados['class2'] == False)\n",
        "dados['R23_FP'] = (dados['R23'] != dados['class2']) & (dados['class2'])"
      ],
      "metadata": {
        "id": "GUx0x3Cox9g8"
      },
      "execution_count": null,
      "outputs": []
    },
    {
      "cell_type": "code",
      "source": [
        "#R24 The total size of the packet must not exceed a predefined threshold\n",
        "dados['R24'] = (dados['gooseLen'] >= 275)\n",
        "dados['R24_VN'] = (dados['R24'] == dados['class2']) & (dados['class2'])\n",
        "dados['R24_VP'] = (dados['R24'] == dados['class2']) & (dados['class2'] == False)\n",
        "dados['R24_FN'] = (dados['R24'] != dados['class2']) & (dados['class2'] == False)\n",
        "dados['R24_FP'] = (dados['R24'] != dados['class2']) & (dados['class2'])"
      ],
      "metadata": {
        "id": "iig7K-V6yAv2"
      },
      "execution_count": null,
      "outputs": []
    },
    {
      "cell_type": "code",
      "source": [
        "dados['line_result'] = (dados['R1'] | dados['R2'] | dados['R3'] | dados['R4'] | dados['R5'] | dados['R6.0'] | dados['R6.1'] | dados['R6.2'] | dados['R6.3'] | dados['R6.4'] | dados['R6.5'] | dados['R6.6'] | dados['R6.7'] | dados['R6.8'] | dados['R7'] | dados['R8'] | dados['R9'] | dados['R10'] | dados['R12'] | dados['R15'] | dados['R19'] | dados['R23'] | dados['R24'] )"
      ],
      "metadata": {
        "id": "GI9H6OIBgHEr",
        "colab": {
          "base_uri": "https://localhost:8080/"
        },
        "outputId": "83369113-4ad7-474d-8f42-31cd9e3c2c9a"
      },
      "execution_count": null,
      "outputs": [
        {
          "output_type": "stream",
          "name": "stderr",
          "text": [
            "/usr/local/lib/python3.7/dist-packages/ipykernel_launcher.py:1: PerformanceWarning: DataFrame is highly fragmented.  This is usually the result of calling `frame.insert` many times, which has poor performance.  Consider joining all columns at once using pd.concat(axis=1) instead.  To get a de-fragmented frame, use `newframe = frame.copy()`\n",
            "  \"\"\"Entry point for launching an IPython kernel.\n"
          ]
        }
      ]
    },
    {
      "cell_type": "code",
      "source": [
        "dados['Results_VN'] = (dados['line_result'] == dados['class2']) & (dados['class2'])\n",
        "dados['Results_VP'] = (dados['line_result'] == dados['class2']) & (dados['class2'] == False)\n",
        "dados['Results_FN'] = (dados['line_result'] != dados['class2']) & (dados['class2'] == False)\n",
        "dados['Results_FP'] = (dados['line_result'] != dados['class2']) & (dados['class2'])"
      ],
      "metadata": {
        "id": "VVYnHTx1gvd6",
        "colab": {
          "base_uri": "https://localhost:8080/"
        },
        "outputId": "5519038d-34ed-4f6b-a8a9-5e69d5449e60"
      },
      "execution_count": null,
      "outputs": [
        {
          "output_type": "stream",
          "name": "stderr",
          "text": [
            "/usr/local/lib/python3.7/dist-packages/ipykernel_launcher.py:1: PerformanceWarning: DataFrame is highly fragmented.  This is usually the result of calling `frame.insert` many times, which has poor performance.  Consider joining all columns at once using pd.concat(axis=1) instead.  To get a de-fragmented frame, use `newframe = frame.copy()`\n",
            "  \"\"\"Entry point for launching an IPython kernel.\n",
            "/usr/local/lib/python3.7/dist-packages/ipykernel_launcher.py:2: PerformanceWarning: DataFrame is highly fragmented.  This is usually the result of calling `frame.insert` many times, which has poor performance.  Consider joining all columns at once using pd.concat(axis=1) instead.  To get a de-fragmented frame, use `newframe = frame.copy()`\n",
            "  \n",
            "/usr/local/lib/python3.7/dist-packages/ipykernel_launcher.py:3: PerformanceWarning: DataFrame is highly fragmented.  This is usually the result of calling `frame.insert` many times, which has poor performance.  Consider joining all columns at once using pd.concat(axis=1) instead.  To get a de-fragmented frame, use `newframe = frame.copy()`\n",
            "  This is separate from the ipykernel package so we can avoid doing imports until\n",
            "/usr/local/lib/python3.7/dist-packages/ipykernel_launcher.py:4: PerformanceWarning: DataFrame is highly fragmented.  This is usually the result of calling `frame.insert` many times, which has poor performance.  Consider joining all columns at once using pd.concat(axis=1) instead.  To get a de-fragmented frame, use `newframe = frame.copy()`\n",
            "  after removing the cwd from sys.path.\n"
          ]
        }
      ]
    },
    {
      "cell_type": "markdown",
      "source": [
        "# Impressão de resultados\n"
      ],
      "metadata": {
        "id": "Js8fVMyXvBkD"
      }
    },
    {
      "cell_type": "code",
      "source": [
        "dados[['class','R1','R1_VN','R1_VP','R1_FN','R1_FP','R2','R2_VN','R2_VP','R2_FN','R2_FP','R3','R3_VN','R3_VP','R3_FN','R3_FP','R4','R4_VN','R4_VP','R4_FN','R4_FP','R5','R5_VN','R5_VP','R5_FN','R5_FP','R6.0','R6.0_VN','R6.0_VP','R6.0_FN','R6.0_FP','R6.1','R6.1_VN','R6.1_VP','R6.1_FN','R6.1_FP','R6.2','R6.2_VN','R6.2_VP','R6.2_FN','R6.2_FP','R6.3','R6.3_VN','R6.3_VP','R6.3_FN','R6.3_FP','R6.4','R6.4_VN','R6.4_VP','R6.4_FN','R6.4_FP','R6.5','R6.5_VN','R6.5_VP','R6.5_FN','R6.5_FP','R6.6','R6.6_VN','R6.6_VP','R6.6_FN','R6.6_FP','R6.7','R6.7_VN','R6.7_VP','R6.7_FN','R6.7_FP','R6.8','R6.8_VN','R6.8_VP','R6.8_FN','R6.8_FP','R7','R7_VN','R7_VP','R7_FN','R7_FP','R8','R8_VN','R8_VP','R8_FN','R8_FP','R9','R9_VN','R9_VP','R9_FN','R9_FP','R10','R10_VN','R10_VP','R10_FN','R10_FP','R12','R12_VN','R12_VP','R12_FN','R12_FP','R15','R15_VN','R15_VP','R15_FN','R15_FP','R19','R19_VN','R19_VP','R19_FN','R19_FP','R23','R23_VN','R23_VP','R23_FN','R23_FP','R24','R24_VN','R24_VP','R24_FN','R24_FP','line_result','Results_VN','Results_VP','Results_FN','Results_FP']].to_csv('/Resultados.csv',index=False) #Ordenação das colunas a ser feito posteriormente"
      ],
      "metadata": {
        "id": "oCf6WJzOhd_b"
      },
      "execution_count": null,
      "outputs": []
    },
    {
      "cell_type": "code",
      "source": [
        "dados[['class','R1','R2','R3','R4','R5','R6.0','R6.1','R6.2','R6.3','R6.4','R6.5','R6.6','R6.7','R6.8','R7','R8','R9','R10','R12','R15','R19','R23','R24','line_result']].to_csv('resultados-regras.csv',index=False) "
      ],
      "metadata": {
        "id": "DxJf7vlMwYti"
      },
      "execution_count": null,
      "outputs": []
    },
    {
      "cell_type": "code",
      "source": [
        "'''\n",
        "Analise do F1 Score\n",
        "VN = line_result == class == 'true' # true = attack\n",
        "VP = line_result == class == 'false' # false = normal\n",
        "FN = line_result != class and line_result == 'true' # true = attack\n",
        "FP = line_result != class and line_result == 'false' # false = normal\n",
        "'''"
      ],
      "metadata": {
        "id": "IZ5UhZfeOhcU",
        "colab": {
          "base_uri": "https://localhost:8080/",
          "height": 87
        },
        "outputId": "2d1ccfa2-c00d-45cc-a95f-d204f40f87f9"
      },
      "execution_count": null,
      "outputs": [
        {
          "output_type": "execute_result",
          "data": {
            "text/plain": [
              "\"\\nAnalise do F1 Score\\nVN = line_result == class == 'true' # true = attack\\nVP = line_result == class == 'false' # false = normal\\nFN = line_result != class and line_result == 'true' # true = attack\\nFP = line_result != class and line_result == 'false' # false = normal\\n\""
            ],
            "application/vnd.google.colaboratory.intrinsic+json": {
              "type": "string"
            }
          },
          "metadata": {},
          "execution_count": 55
        }
      ]
    }
  ]
}